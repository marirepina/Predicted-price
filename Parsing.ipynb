{
  "nbformat": 4,
  "nbformat_minor": 0,
  "metadata": {
    "colab": {
      "provenance": [],
      "mount_file_id": "1xNRB-tBYGT7ATa903bdyq14oTgKIA9GS",
      "authorship_tag": "ABX9TyPt7mcMbvqTCZkIXq/XPI1j",
      "include_colab_link": true
    },
    "kernelspec": {
      "name": "python3",
      "display_name": "Python 3"
    },
    "language_info": {
      "name": "python"
    }
  },
  "cells": [
    {
      "cell_type": "markdown",
      "metadata": {
        "id": "view-in-github",
        "colab_type": "text"
      },
      "source": [
        "<a href=\"https://colab.research.google.com/github/marirepina/Predicted-price/blob/main/Parsing.ipynb\" target=\"_parent\"><img src=\"https://colab.research.google.com/assets/colab-badge.svg\" alt=\"Open In Colab\"/></a>"
      ]
    },
    {
      "cell_type": "code",
      "execution_count": 146,
      "metadata": {
        "id": "aDR2NlH0kHsv"
      },
      "outputs": [],
      "source": [
        "import requests\n",
        "from bs4 import BeautifulSoup as bs\n",
        "import pandas as pd"
      ]
    },
    {
      "cell_type": "code",
      "source": [
        "from google.colab import drive\n",
        "drive.mount('/content/drive')"
      ],
      "metadata": {
        "colab": {
          "base_uri": "https://localhost:8080/"
        },
        "id": "6mKA91O8BEvf",
        "outputId": "9dad2adf-7a67-4768-b099-85aa0be84ece"
      },
      "execution_count": 147,
      "outputs": [
        {
          "output_type": "stream",
          "name": "stdout",
          "text": [
            "Drive already mounted at /content/drive; to attempt to forcibly remount, call drive.mount(\"/content/drive\", force_remount=True).\n"
          ]
        }
      ]
    },
    {
      "cell_type": "code",
      "source": [
        "URL = 'https://www.afisha.ru/selection/100-luchshih-filmov-za-polveka/'\n",
        "\n",
        "r = requests.get(URL)"
      ],
      "metadata": {
        "id": "ss6UMSaAkOZ4"
      },
      "execution_count": 148,
      "outputs": []
    },
    {
      "cell_type": "code",
      "source": [
        "soup = bs(r.text, 'html.parser')"
      ],
      "metadata": {
        "id": "R4o20yIekRIm"
      },
      "execution_count": 149,
      "outputs": []
    },
    {
      "cell_type": "code",
      "source": [
        "link = 'https://www.afisha.ru' + soup.find('li', class_='lHiNF c6kcq gX7y9').find('a', class_='vcSoT b6DKO jkBWH f5gWK').get('href')"
      ],
      "metadata": {
        "id": "SlqNWfyPkkh2"
      },
      "execution_count": 150,
      "outputs": []
    },
    {
      "cell_type": "code",
      "source": [
        "name = soup.find('li', class_='lHiNF c6kcq gX7y9').find('a', class_='vcSoT b6DKO jkBWH f5gWK').find(class_='mQ7Bh').text"
      ],
      "metadata": {
        "id": "0axafBQau0K7"
      },
      "execution_count": 151,
      "outputs": []
    },
    {
      "cell_type": "code",
      "source": [
        "film_type = soup.find('li', class_='lHiNF c6kcq gX7y9').find('a', class_='vcSoT jnZXU').text"
      ],
      "metadata": {
        "id": "7ieYS6O4vsPx"
      },
      "execution_count": 152,
      "outputs": []
    },
    {
      "cell_type": "code",
      "source": [
        "rating = soup.find('li', class_='lHiNF c6kcq gX7y9').find('div', class_='Pw07y').find('span').text"
      ],
      "metadata": {
        "id": "7KbQcZEfwxKC"
      },
      "execution_count": 153,
      "outputs": []
    },
    {
      "cell_type": "code",
      "source": [
        "films = soup.findAll('li', class_='lHiNF c6kcq gX7y9')\n",
        "len(films)"
      ],
      "metadata": {
        "colab": {
          "base_uri": "https://localhost:8080/"
        },
        "id": "KCQBLOiH1Mfd",
        "outputId": "3b406cb7-6a1c-46ad-f774-9f6ba0051ad1"
      },
      "execution_count": 154,
      "outputs": [
        {
          "output_type": "execute_result",
          "data": {
            "text/plain": [
              "105"
            ]
          },
          "metadata": {},
          "execution_count": 154
        }
      ]
    },
    {
      "cell_type": "code",
      "source": [
        "films = soup.findAll('li', class_='lHiNF c6kcq gX7y9')\n",
        "len(films)\n",
        "\n",
        "data = []\n",
        "\n",
        "for film in films:\n",
        "  try:\n",
        "    link = 'https://www.afisha.ru' + film.find('a', class_='vcSoT b6DKO jkBWH f5gWK').get('href')\n",
        "    name = film.find('a', class_='vcSoT b6DKO jkBWH f5gWK').find(class_='mQ7Bh').text\n",
        "    film_type = film.find('a', class_='vcSoT jnZXU').text\n",
        "    rating = film.find('div', class_='Pw07y').find('span').text\n",
        "    data.append([link, name, film_type, rating])\n",
        "  except AttributeError:\n",
        "    continue"
      ],
      "metadata": {
        "id": "XMrtwD0pxd0L"
      },
      "execution_count": 155,
      "outputs": []
    },
    {
      "cell_type": "code",
      "source": [
        "len(data)"
      ],
      "metadata": {
        "colab": {
          "base_uri": "https://localhost:8080/"
        },
        "id": "f7I0GlGTy28i",
        "outputId": "9b0b1f1e-db3d-424b-c0ce-1e5a10b0b864"
      },
      "execution_count": 156,
      "outputs": [
        {
          "output_type": "execute_result",
          "data": {
            "text/plain": [
              "100"
            ]
          },
          "metadata": {},
          "execution_count": 156
        }
      ]
    },
    {
      "cell_type": "code",
      "source": [
        "header = ['link', 'name', 'film_type', 'rating']"
      ],
      "metadata": {
        "id": "XcAd8S8T_2hG"
      },
      "execution_count": 157,
      "outputs": []
    },
    {
      "cell_type": "code",
      "source": [
        "df = pd.DataFrame(data, columns = header)\n",
        "df.to_csv('/content/drive/MyDrive/Colab Notebooks/top_films', sep=',', encoding='utf8')"
      ],
      "metadata": {
        "id": "Wd2-p7HWAELu"
      },
      "execution_count": 158,
      "outputs": []
    },
    {
      "cell_type": "code",
      "source": [
        "df_out = pd.read_csv('/content/drive/MyDrive/Colab Notebooks/top_films', delimiter=',')\n",
        "df.info()"
      ],
      "metadata": {
        "colab": {
          "base_uri": "https://localhost:8080/"
        },
        "id": "Z44-lOO6B2VA",
        "outputId": "93d50ee2-cb88-4ced-e003-6931a4d3ba50"
      },
      "execution_count": 159,
      "outputs": [
        {
          "output_type": "stream",
          "name": "stdout",
          "text": [
            "<class 'pandas.core.frame.DataFrame'>\n",
            "RangeIndex: 100 entries, 0 to 99\n",
            "Data columns (total 4 columns):\n",
            " #   Column     Non-Null Count  Dtype \n",
            "---  ------     --------------  ----- \n",
            " 0   link       100 non-null    object\n",
            " 1   name       100 non-null    object\n",
            " 2   film_type  100 non-null    object\n",
            " 3   rating     100 non-null    object\n",
            "dtypes: object(4)\n",
            "memory usage: 3.2+ KB\n"
          ]
        }
      ]
    },
    {
      "cell_type": "code",
      "source": [
        "df_out.head()"
      ],
      "metadata": {
        "colab": {
          "base_uri": "https://localhost:8080/",
          "height": 206
        },
        "id": "lepJKV_hCNi2",
        "outputId": "62e716da-3e59-455b-b6d4-53a72a2c1156"
      },
      "execution_count": 160,
      "outputs": [
        {
          "output_type": "execute_result",
          "data": {
            "text/plain": [
              "   Unnamed: 0                                               link  \\\n",
              "0           0  https://www.afisha.ru/movie/horoshiy-plohoy-zl...   \n",
              "1           1      https://www.afisha.ru/movie/vypusknik-170177/   \n",
              "2           2  https://www.afisha.ru/movie/planeta-obezyan-16...   \n",
              "3           3  https://www.afisha.ru/movie/2001-god-kosmiches...   \n",
              "4           4  https://www.afisha.ru/movie/gryazniy-garri-178...   \n",
              "\n",
              "                            name     film_type  rating  \n",
              "0          Хороший, плохой, злой       Вестерн     8.4  \n",
              "1                      Выпускник  Трагикомедия     7.5  \n",
              "2                Планета обезьян      Детектив     7.0  \n",
              "3  2001 год: Космическая одиссея   Приключение     7.9  \n",
              "4                  Грязный Гарри        Боевик     7.1  "
            ],
            "text/html": [
              "\n",
              "  <div id=\"df-042aa0fb-b9f2-43aa-8c1f-43a23943825f\">\n",
              "    <div class=\"colab-df-container\">\n",
              "      <div>\n",
              "<style scoped>\n",
              "    .dataframe tbody tr th:only-of-type {\n",
              "        vertical-align: middle;\n",
              "    }\n",
              "\n",
              "    .dataframe tbody tr th {\n",
              "        vertical-align: top;\n",
              "    }\n",
              "\n",
              "    .dataframe thead th {\n",
              "        text-align: right;\n",
              "    }\n",
              "</style>\n",
              "<table border=\"1\" class=\"dataframe\">\n",
              "  <thead>\n",
              "    <tr style=\"text-align: right;\">\n",
              "      <th></th>\n",
              "      <th>Unnamed: 0</th>\n",
              "      <th>link</th>\n",
              "      <th>name</th>\n",
              "      <th>film_type</th>\n",
              "      <th>rating</th>\n",
              "    </tr>\n",
              "  </thead>\n",
              "  <tbody>\n",
              "    <tr>\n",
              "      <th>0</th>\n",
              "      <td>0</td>\n",
              "      <td>https://www.afisha.ru/movie/horoshiy-plohoy-zl...</td>\n",
              "      <td>Хороший, плохой, злой</td>\n",
              "      <td>Вестерн</td>\n",
              "      <td>8.4</td>\n",
              "    </tr>\n",
              "    <tr>\n",
              "      <th>1</th>\n",
              "      <td>1</td>\n",
              "      <td>https://www.afisha.ru/movie/vypusknik-170177/</td>\n",
              "      <td>Выпускник</td>\n",
              "      <td>Трагикомедия</td>\n",
              "      <td>7.5</td>\n",
              "    </tr>\n",
              "    <tr>\n",
              "      <th>2</th>\n",
              "      <td>2</td>\n",
              "      <td>https://www.afisha.ru/movie/planeta-obezyan-16...</td>\n",
              "      <td>Планета обезьян</td>\n",
              "      <td>Детектив</td>\n",
              "      <td>7.0</td>\n",
              "    </tr>\n",
              "    <tr>\n",
              "      <th>3</th>\n",
              "      <td>3</td>\n",
              "      <td>https://www.afisha.ru/movie/2001-god-kosmiches...</td>\n",
              "      <td>2001 год: Космическая одиссея</td>\n",
              "      <td>Приключение</td>\n",
              "      <td>7.9</td>\n",
              "    </tr>\n",
              "    <tr>\n",
              "      <th>4</th>\n",
              "      <td>4</td>\n",
              "      <td>https://www.afisha.ru/movie/gryazniy-garri-178...</td>\n",
              "      <td>Грязный Гарри</td>\n",
              "      <td>Боевик</td>\n",
              "      <td>7.1</td>\n",
              "    </tr>\n",
              "  </tbody>\n",
              "</table>\n",
              "</div>\n",
              "      <button class=\"colab-df-convert\" onclick=\"convertToInteractive('df-042aa0fb-b9f2-43aa-8c1f-43a23943825f')\"\n",
              "              title=\"Convert this dataframe to an interactive table.\"\n",
              "              style=\"display:none;\">\n",
              "        \n",
              "  <svg xmlns=\"http://www.w3.org/2000/svg\" height=\"24px\"viewBox=\"0 0 24 24\"\n",
              "       width=\"24px\">\n",
              "    <path d=\"M0 0h24v24H0V0z\" fill=\"none\"/>\n",
              "    <path d=\"M18.56 5.44l.94 2.06.94-2.06 2.06-.94-2.06-.94-.94-2.06-.94 2.06-2.06.94zm-11 1L8.5 8.5l.94-2.06 2.06-.94-2.06-.94L8.5 2.5l-.94 2.06-2.06.94zm10 10l.94 2.06.94-2.06 2.06-.94-2.06-.94-.94-2.06-.94 2.06-2.06.94z\"/><path d=\"M17.41 7.96l-1.37-1.37c-.4-.4-.92-.59-1.43-.59-.52 0-1.04.2-1.43.59L10.3 9.45l-7.72 7.72c-.78.78-.78 2.05 0 2.83L4 21.41c.39.39.9.59 1.41.59.51 0 1.02-.2 1.41-.59l7.78-7.78 2.81-2.81c.8-.78.8-2.07 0-2.86zM5.41 20L4 18.59l7.72-7.72 1.47 1.35L5.41 20z\"/>\n",
              "  </svg>\n",
              "      </button>\n",
              "      \n",
              "  <style>\n",
              "    .colab-df-container {\n",
              "      display:flex;\n",
              "      flex-wrap:wrap;\n",
              "      gap: 12px;\n",
              "    }\n",
              "\n",
              "    .colab-df-convert {\n",
              "      background-color: #E8F0FE;\n",
              "      border: none;\n",
              "      border-radius: 50%;\n",
              "      cursor: pointer;\n",
              "      display: none;\n",
              "      fill: #1967D2;\n",
              "      height: 32px;\n",
              "      padding: 0 0 0 0;\n",
              "      width: 32px;\n",
              "    }\n",
              "\n",
              "    .colab-df-convert:hover {\n",
              "      background-color: #E2EBFA;\n",
              "      box-shadow: 0px 1px 2px rgba(60, 64, 67, 0.3), 0px 1px 3px 1px rgba(60, 64, 67, 0.15);\n",
              "      fill: #174EA6;\n",
              "    }\n",
              "\n",
              "    [theme=dark] .colab-df-convert {\n",
              "      background-color: #3B4455;\n",
              "      fill: #D2E3FC;\n",
              "    }\n",
              "\n",
              "    [theme=dark] .colab-df-convert:hover {\n",
              "      background-color: #434B5C;\n",
              "      box-shadow: 0px 1px 3px 1px rgba(0, 0, 0, 0.15);\n",
              "      filter: drop-shadow(0px 1px 2px rgba(0, 0, 0, 0.3));\n",
              "      fill: #FFFFFF;\n",
              "    }\n",
              "  </style>\n",
              "\n",
              "      <script>\n",
              "        const buttonEl =\n",
              "          document.querySelector('#df-042aa0fb-b9f2-43aa-8c1f-43a23943825f button.colab-df-convert');\n",
              "        buttonEl.style.display =\n",
              "          google.colab.kernel.accessAllowed ? 'block' : 'none';\n",
              "\n",
              "        async function convertToInteractive(key) {\n",
              "          const element = document.querySelector('#df-042aa0fb-b9f2-43aa-8c1f-43a23943825f');\n",
              "          const dataTable =\n",
              "            await google.colab.kernel.invokeFunction('convertToInteractive',\n",
              "                                                     [key], {});\n",
              "          if (!dataTable) return;\n",
              "\n",
              "          const docLinkHtml = 'Like what you see? Visit the ' +\n",
              "            '<a target=\"_blank\" href=https://colab.research.google.com/notebooks/data_table.ipynb>data table notebook</a>'\n",
              "            + ' to learn more about interactive tables.';\n",
              "          element.innerHTML = '';\n",
              "          dataTable['output_type'] = 'display_data';\n",
              "          await google.colab.output.renderOutput(dataTable, element);\n",
              "          const docLink = document.createElement('div');\n",
              "          docLink.innerHTML = docLinkHtml;\n",
              "          element.appendChild(docLink);\n",
              "        }\n",
              "      </script>\n",
              "    </div>\n",
              "  </div>\n",
              "  "
            ]
          },
          "metadata": {},
          "execution_count": 160
        }
      ]
    }
  ]
}